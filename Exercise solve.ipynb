{
 "cells": [
  {
   "cell_type": "markdown",
   "metadata": {},
   "source": [
    "Exercise 1.1: Define a class Person with attributes name and age. Create an object and print its details."
   ]
  },
  {
   "cell_type": "code",
   "execution_count": 1,
   "metadata": {},
   "outputs": [
    {
     "name": "stdout",
     "output_type": "stream",
     "text": [
      "Name: Bob, Age: 25, City: New York\n"
     ]
    }
   ],
   "source": [
    "class Person:\n",
    "      def __init__(self,name,age,city):\n",
    "            self.name=name\n",
    "            self.age=age\n",
    "            self.city=city\n",
    "      \n",
    "      def __str__(self):\n",
    "            return f\"Name: {self.name}, Age: {self.age}, City: {self.city}\"\n",
    "      \n",
    "p1 = Person(\"Bob\", 25, \"New York\")\n",
    "print(p1)"
   ]
  },
  {
   "cell_type": "markdown",
   "metadata": {},
   "source": [
    "Exercise 1.2: Modify the Person class to include a method greet() that prints a greeting message using the person's name."
   ]
  },
  {
   "cell_type": "code",
   "execution_count": 2,
   "metadata": {},
   "outputs": [
    {
     "name": "stdout",
     "output_type": "stream",
     "text": [
      "Hello, my name is Bob!\n",
      "Name: Bob, Age: 25, City: New York\n"
     ]
    }
   ],
   "source": [
    "class Person:\n",
    "      def __init__(self,name,age,city):\n",
    "            self.name=name\n",
    "            self.age=age\n",
    "            self.city=city\n",
    "      \n",
    "      def greet(self):\n",
    "            print(f\"Hello, my name is {self.name}!\")\n",
    "      \n",
    "      def __str__(self):\n",
    "            return f\"Name: {self.name}, Age: {self.age}, City: {self.city}\"\n",
    "      \n",
    "p1 = Person(\"Bob\", 25, \"New York\")\n",
    "p1.greet()\n",
    "print(p1)"
   ]
  },
  {
   "cell_type": "markdown",
   "metadata": {},
   "source": [
    "Exercise 1.3: Create multiple instances of the Person class and store them in a list. Iterate over the list and call greet() for each person."
   ]
  },
  {
   "cell_type": "code",
   "execution_count": 3,
   "metadata": {},
   "outputs": [
    {
     "name": "stdout",
     "output_type": "stream",
     "text": [
      "Hello, my name is Alice!\n",
      "Hello, my name is Bob!\n",
      "Hello, my name is David!\n"
     ]
    }
   ],
   "source": [
    "class Person:\n",
    "      def __init__(self,name,age,city):\n",
    "            self.name=name\n",
    "            self.age=age\n",
    "            self.city=city\n",
    "      \n",
    "      def greet(self):\n",
    "            print(f\"Hello, my name is {self.name}!\")\n",
    "      \n",
    "      def __str__(self):\n",
    "            return f\"Name: {self.name}, Age: {self.age}, City: {self.city}\"\n",
    "\n",
    "persons = [Person(\"Alice\", 20, \"Boston\"), Person(\"Bob\", 21, \"New York\"), Person(\"David\", 22, \"Miami\")]\n",
    "\n",
    "for person in persons:\n",
    "      person.greet()"
   ]
  },
  {
   "cell_type": "markdown",
   "metadata": {},
   "source": [
    "Exercise 2.1: Create a class Car with attributes brand, model, and year. Add a method display info() to print car details.\n"
   ]
  },
  {
   "cell_type": "code",
   "execution_count": 4,
   "metadata": {},
   "outputs": [
    {
     "name": "stdout",
     "output_type": "stream",
     "text": [
      "This is a 2015 Toyota Premio.\n",
      "This is a 2022 Toyota Harrier.\n",
      "This is a 2023 Honda Civic.\n"
     ]
    }
   ],
   "source": [
    "class Car:\n",
    "      def __init__(self,brand,model,year):\n",
    "            self.brand=brand\n",
    "            self.model=model\n",
    "            self.year=year\n",
    "      \n",
    "      def display_info(self):\n",
    "            return f\"This is a {self.year} {self.brand} {self.model}.\"\n",
    "      \n",
    "      def __str__(self):\n",
    "            return self.display_info()\n",
    "\n",
    "car1=Car(\"Toyota\", \"Premio\", 2015)\n",
    "car2=Car(\"Toyota\", \"Harrier\", 2022)\n",
    "car3=Car(\"Honda\", \"Civic\", 2023)\n",
    "\n",
    "print(car1)\n",
    "print(car2)\n",
    "print(car3)"
   ]
  },
  {
   "cell_type": "markdown",
   "metadata": {},
   "source": [
    "Exercise 2.2: Create multiple Car objects and call display info() for each one.\n"
   ]
  },
  {
   "cell_type": "code",
   "execution_count": 5,
   "metadata": {},
   "outputs": [
    {
     "data": {
      "text/plain": [
       "'This is a 2023 Honda Civic.'"
      ]
     },
     "execution_count": 5,
     "metadata": {},
     "output_type": "execute_result"
    }
   ],
   "source": [
    "class Car:\n",
    "      def __init__(self,brand,name,year):\n",
    "            self.brand=brand\n",
    "            self.name=name\n",
    "            self.year=year\n",
    "\n",
    "      def display_info(self):\n",
    "            return f\"This is a {self.year} {self.brand} {self.name}.\" \n",
    "      \n",
    "car1=Car(\"Toyota\", \"Premio\", 2015)\n",
    "car2=Car(\"Toyota\", \"Harrier\", 2022)\n",
    "car3=Car(\"Honda\", \"Civic\", 2023)\n",
    "\n",
    "car1.display_info()\n",
    "car2.display_info()\n",
    "car3.display_info()"
   ]
  },
  {
   "cell_type": "markdown",
   "metadata": {},
   "source": [
    "Exercise 2.3: Modify the Car class to include a method age() that calculates the car's age based on the current year.\n"
   ]
  },
  {
   "cell_type": "code",
   "execution_count": 6,
   "metadata": {},
   "outputs": [
    {
     "name": "stdout",
     "output_type": "stream",
     "text": [
      "This is a 2015 Toyota Premio and It is 10 years old car.\n",
      "This is a 2022 Toyota Harrier and It is 3 years old car.\n",
      "This is a 2023 Honda Civic and It is 2 years old car.\n"
     ]
    }
   ],
   "source": [
    "class Car:\n",
    "      def __init__(self,brand,name,year,current_year=2025):\n",
    "            self.brand=brand\n",
    "            self.name=name\n",
    "            self.year=year\n",
    "            self.current_year=current_year\n",
    "\n",
    "      def age_method(self):\n",
    "            return f\"This is a {self.year} {self.brand} {self.name} and It is {self.current_year-self.year} years old car.\"\n",
    "      \n",
    "car1=Car(\"Toyota\", \"Premio\", 2015)\n",
    "car2=Car(\"Toyota\", \"Harrier\", 2022)\n",
    "car3=Car(\"Honda\", \"Civic\", 2023)\n",
    "\n",
    "print(car1.age_method())\n",
    "print(car2.age_method())\n",
    "print(car3.age_method())"
   ]
  },
  {
   "cell_type": "markdown",
   "metadata": {},
   "source": [
    "Exercise 3.1: Define a class BankAccount with attributes account_number, balance, and owner_name. Use private attributes (__balance).\n"
   ]
  },
  {
   "cell_type": "code",
   "execution_count": 7,
   "metadata": {},
   "outputs": [
    {
     "name": "stdout",
     "output_type": "stream",
     "text": [
      "The owner name is Alice, Account number: 10703457689, Account balance: 3200\n",
      "The owner name is Bob, Account number: 10707895432, Account balance: 2500\n"
     ]
    }
   ],
   "source": [
    "\n",
    "class BankAccount:\n",
    "      def __init__(self,owner_name,account_number,balance=0):\n",
    "            self.owner_name=owner_name\n",
    "            self.account_number=account_number\n",
    "            self.__balance=balance\n",
    "      \n",
    "      def __str__(self):\n",
    "            return f\"The owner name is {self.owner_name}, Account number: {self.account_number}, Account balance: {self.__balance}\"\n",
    "\n",
    "p1=BankAccount(\"Alice\",10703457689,3200)\n",
    "p2=BankAccount(\"Bob\",10707895432,2500)\n",
    "\n",
    "print(p1)\n",
    "print(p2)"
   ]
  },
  {
   "cell_type": "markdown",
   "metadata": {},
   "source": [
    "Exercise 3.2: Add getter and setter methods to safely access and modify the balance.\n"
   ]
  },
  {
   "cell_type": "code",
   "execution_count": 8,
   "metadata": {},
   "outputs": [
    {
     "name": "stdout",
     "output_type": "stream",
     "text": [
      "Incorrect Password\n",
      "Alice's Balance: 3200\n",
      "Account Balance Is Updated\n",
      "Bob's Balance: 3000\n",
      "The owner name is Alice, Account number: 10703457689, Account balance: 3200\n",
      "The owner name is Bob, Account number: 10707895432, Account balance: 3000\n"
     ]
    }
   ],
   "source": [
    "class BankAccount:\n",
    "      def __init__(self, owner_name: str, account_number: int, password: str, balance=0):\n",
    "            self.owner_name=owner_name\n",
    "            self.account_number=account_number\n",
    "            self.__balance=balance\n",
    "            self.__password=password\n",
    "      \n",
    "      def get_balance(self):\n",
    "            return self.__balance\n",
    "      \n",
    "      def set_balance(self, new_balance:int, password:str):\n",
    "            if password==self.__password:\n",
    "                  self.__balance=new_balance\n",
    "                  print(\"Account Balance Is Updated\")\n",
    "            else:\n",
    "                  print(\"Incorrect Password\")\n",
    "\n",
    "      def __str__(self):\n",
    "            return f\"The owner name is {self.owner_name}, Account number: {self.account_number}, Account balance: {self.__balance}\"\n",
    "\n",
    "p1=BankAccount(\"Alice\",10703457689,\"@Kil1906\",3200)\n",
    "p2=BankAccount(\"Bob\",10707895432,\"21$3290\",2500)\n",
    "\n",
    "p1.set_balance(5000,\"aKil1906\")\n",
    "print(\"Alice's Balance:\", p1.get_balance())\n",
    "\n",
    "p2.set_balance(3000,\"21$3290\")\n",
    "print(\"Bob's Balance:\", p2.get_balance())\n",
    "\n",
    "print(p1)\n",
    "print(p2)"
   ]
  },
  {
   "cell_type": "markdown",
   "metadata": {},
   "source": [
    "Exercise 3.3: Add a deposit() and withdraw() method to the BankAccount class. Ensure the withdraw method checks for sufficient balance before allowing withdrawal.\n"
   ]
  },
  {
   "cell_type": "code",
   "execution_count": 9,
   "metadata": {},
   "outputs": [
    {
     "name": "stdout",
     "output_type": "stream",
     "text": [
      "300 Taka has been Successfully Deposited!.Your New Balance: 3500\n",
      "3000 Taka has been Successfully Withdrawl!.Your New Balance: 500\n",
      "Incorrect Password\n",
      "Alice's Balance: 500\n",
      "The owner name is Alice, Account number: 10703457689, Account balance: 500\n",
      "\n",
      "300 Taka has been Successfully Deposited!.Your New Balance: 2800\n",
      "Please Enter a Valid Integer Amount! OR You don't have Sufficient Balance\n",
      "Account Balance Is Updated\n",
      "Bob's Balance: 3000\n",
      "The owner name is Bob, Account number: 10707895432, Account balance: 3000\n"
     ]
    }
   ],
   "source": [
    "class BankAccount:\n",
    "      def __init__(self, owner_name: str, account_number: int, password: str, balance=0):\n",
    "            self.owner_name=owner_name\n",
    "            self.account_number=account_number\n",
    "            self.__balance=balance\n",
    "            self.__password=password\n",
    "      \n",
    "      def deposit(self, account_number: int, amount: int):\n",
    "            if amount>0 and account_number==self.account_number:\n",
    "                  self.__balance+=amount\n",
    "                  print(f\"{amount} Taka has been Successfully Deposited!.Your New Balance: {self.__balance}\")\n",
    "            else:\n",
    "                  print(\"Please Enter a Valid Integer Amount!\")\n",
    "      \n",
    "      def withdraw(self, account_number: int, amount: int):\n",
    "            if 0<=amount<=self.__balance and account_number==self.account_number:\n",
    "                  self.__balance-=amount\n",
    "                  print(f\"{amount} Taka has been Successfully Withdrawl!.Your New Balance: {self.__balance}\")\n",
    "            else:\n",
    "                  print(\"Please Enter a Valid Integer Amount! OR You don't have Sufficient Balance\")\n",
    "      \n",
    "      def get_balance(self):\n",
    "            return self.__balance\n",
    "      \n",
    "      def set_balance(self, new_balance: int, password: str):\n",
    "            if password==self.__password:\n",
    "                  self.__balance=new_balance\n",
    "                  print(\"Account Balance Is Updated\")\n",
    "            else:\n",
    "                  print(\"Incorrect Password\")\n",
    "\n",
    "      def __str__(self):\n",
    "            return f\"The owner name is {self.owner_name}, Account number: {self.account_number}, Account balance: {self.__balance}\"     \n",
    "\n",
    "p1=BankAccount(\"Alice\",10703457689,\"@Kil1906\",3200)\n",
    "p2=BankAccount(\"Bob\",10707895432,\"21$3290\",2500)\n",
    "\n",
    "p1.deposit(10703457689,300)\n",
    "p1.withdraw(10703457689,3000)\n",
    "p1.set_balance(5000,\"aKil1906\")\n",
    "print(\"Alice's Balance:\", p1.get_balance())\n",
    "print(p1)\n",
    "\n",
    "print()\n",
    "\n",
    "p2.deposit(10707895432,300)\n",
    "p2.withdraw(10707895432,3000)\n",
    "p2.set_balance(3000,\"21$3290\")\n",
    "print(\"Bob's Balance:\", p2.get_balance())\n",
    "print(p2)"
   ]
  },
  {
   "cell_type": "markdown",
   "metadata": {},
   "source": [
    "Exercise 4.1: Create a base class Animal with attributes name and species. Define a method make_sound()."
   ]
  },
  {
   "cell_type": "code",
   "execution_count": 10,
   "metadata": {},
   "outputs": [
    {
     "name": "stdout",
     "output_type": "stream",
     "text": [
      "Name: Buddy, Species: Husky, Sound: Some Generic Sound\n",
      "Name: Tommy, Species: Bulldog, Sound: Some Generic Sound\n"
     ]
    }
   ],
   "source": [
    "class Animal:\n",
    "    def __init__(self,name,species):\n",
    "        self.name=name\n",
    "        self.species=species\n",
    "\n",
    "    def make_sound(self):\n",
    "        return \"Some Generic Sound\"\n",
    "\n",
    "animal1=Animal(\"Buddy\",\"Husky\")\n",
    "animal2=Animal(\"Tommy\",\"Bulldog\")\n",
    "\n",
    "print(f\"Name: {animal1.name}, Species: {animal1.species}, Sound: {animal1.make_sound()}\")\n",
    "print(f\"Name: {animal2.name}, Species: {animal2.species}, Sound: {animal1.make_sound()}\")"
   ]
  },
  {
   "cell_type": "markdown",
   "metadata": {},
   "source": [
    "Exercise 4.2: Create two child classes: Dog and Cat, that inherit from Animal. Override the make_sound() method to return \"Bark\" for dogs and \"Meow\" for cats."
   ]
  },
  {
   "cell_type": "code",
   "execution_count": 11,
   "metadata": {},
   "outputs": [
    {
     "name": "stdout",
     "output_type": "stream",
     "text": [
      "Name: Buddy, Species: Dog, Sound: Bark\n",
      "Name: Tommy, Species: Dog, Sound: Bark\n",
      "Name: Snow, Species: Cat, Sound: Meow\n",
      "Name: Pillow, Species: Cat, Sound: Meow\n"
     ]
    }
   ],
   "source": [
    "class Animal:\n",
    "    def __init__(self, name, species):\n",
    "        self.name = name\n",
    "        self.species = species\n",
    "\n",
    "    def make_sound(self):\n",
    "        return \"Some Generic Sound\"\n",
    "\n",
    "class Dog(Animal):\n",
    "    def __init__(self, name):\n",
    "        super().__init__(name, \"Dog\")\n",
    "\n",
    "    def make_sound(self):\n",
    "        return \"Bark\"\n",
    "\n",
    "class Cat(Animal):\n",
    "    def __init__(self, name):\n",
    "        super().__init__(name, \"Cat\")\n",
    "\n",
    "    def make_sound(self):\n",
    "        return \"Meow\"\n",
    "\n",
    "dog1 = Dog(\"Buddy\")\n",
    "dog2 = Dog(\"Tommy\")\n",
    "\n",
    "cat1 = Cat(\"Snow\")\n",
    "cat2 = Cat(\"Pillow\")\n",
    "\n",
    "print(f\"Name: {dog1.name}, Species: {dog1.species}, Sound: {dog1.make_sound()}\")\n",
    "print(f\"Name: {dog2.name}, Species: {dog2.species}, Sound: {dog2.make_sound()}\")\n",
    "print(f\"Name: {cat1.name}, Species: {cat1.species}, Sound: {cat1.make_sound()}\")\n",
    "print(f\"Name: {cat2.name}, Species: {cat2.species}, Sound: {cat2.make_sound()}\")\n"
   ]
  },
  {
   "cell_type": "markdown",
   "metadata": {},
   "source": [
    "Exercise 4.3: Instantiate objects of Dog and Cat, and call their make_sound() methods."
   ]
  },
  {
   "cell_type": "code",
   "execution_count": 12,
   "metadata": {},
   "outputs": [
    {
     "name": "stdout",
     "output_type": "stream",
     "text": [
      "Buddy is Barking\n",
      "Tommy is Barking\n",
      "Snow is Meowing\n",
      "Pillow is Meowing\n"
     ]
    }
   ],
   "source": [
    "class Animal:\n",
    "    def __init__(self, name, species):\n",
    "        self.name = name\n",
    "        self.species = species\n",
    "\n",
    "    def make_sound(self):\n",
    "        return \"Some Generic Sound\"\n",
    "\n",
    "class Dog(Animal):\n",
    "    def __init__(self, name, breed):\n",
    "        super().__init__(name, \"Dog\")\n",
    "        self.breed = breed\n",
    "\n",
    "    def make_sound(self):\n",
    "        return f\"{self.name} is Barking\"\n",
    "\n",
    "class Cat(Animal):\n",
    "    def __init__(self, name, breed):\n",
    "        super().__init__(name, \"Cat\")\n",
    "        self.breed = breed\n",
    "\n",
    "    def make_sound(self):\n",
    "        return f\"{self.name} is Meowing\"\n",
    "\n",
    "dog1 = Dog(\"Buddy\", \"Husky\")\n",
    "dog2 = Dog(\"Tommy\", \"Bulldog\")\n",
    "\n",
    "cat1 = Cat(\"Snow\", \"Persian\")\n",
    "cat2 = Cat(\"Pillow\", \"American Mix\")\n",
    "\n",
    "print(dog1.make_sound())\n",
    "print(dog2.make_sound())\n",
    "print(cat1.make_sound())\n",
    "print(cat2.make_sound())"
   ]
  },
  {
   "cell_type": "markdown",
   "metadata": {},
   "source": [
    "Exercise 4.4: Modify Animal to include a method info() that prints details about the animal. Ensure it works for child classes too."
   ]
  },
  {
   "cell_type": "code",
   "execution_count": 13,
   "metadata": {},
   "outputs": [
    {
     "name": "stdout",
     "output_type": "stream",
     "text": [
      "Name: Buddy, Species: Dog\n",
      "Sound: Bark\n",
      "\n",
      "Name: Tommy, Species: Dog\n",
      "Sound: Bark\n",
      "\n",
      "Name: Snow, Species: Cat\n",
      "Sound: Meow\n",
      "\n",
      "Name: Pillow, Species: Cat\n",
      "Sound: Meow\n",
      "\n"
     ]
    }
   ],
   "source": [
    "class Animal:\n",
    "  def __init__(self,name,species):\n",
    "    self.name=name\n",
    "    self.species=species\n",
    "\n",
    "  def make_sound(self):\n",
    "    return \"Some Generic Sound\"\n",
    "\n",
    "  def info(self):\n",
    "    return f\"Name: {self.name}, Species: {self.species}\"\n",
    "\n",
    "class Dog(Animal):\n",
    "  def __init__(self,name):\n",
    "    super().__init__(name,\"Dog\")\n",
    "\n",
    "  def make_sound(self):\n",
    "       return \"Bark\"\n",
    "\n",
    "class Cat(Animal):\n",
    "    def __init__(self, name):\n",
    "        super().__init__(name, \"Cat\")\n",
    "\n",
    "    def make_sound(self):\n",
    "        return \"Meow\"\n",
    "\n",
    "dog1 = Dog(\"Buddy\")\n",
    "dog2 = Dog(\"Tommy\")\n",
    "\n",
    "cat1 = Cat(\"Snow\")\n",
    "cat2 = Cat(\"Pillow\")\n",
    "\n",
    "print(dog1.info())\n",
    "print(f\"Sound: {dog1.make_sound()}\\n\")\n",
    "\n",
    "print(dog2.info())\n",
    "print(f\"Sound: {dog2.make_sound()}\\n\")\n",
    "\n",
    "print(cat1.info())\n",
    "print(f\"Sound: {cat1.make_sound()}\\n\")\n",
    "\n",
    "print(cat2.info())\n",
    "print(f\"Sound: {cat2.make_sound()}\\n\")"
   ]
  },
  {
   "cell_type": "markdown",
   "metadata": {},
   "source": [
    "Exercise 4.5: Create a base class Vehicle with attributes brand and year.\n",
    "1. Define a method start_engine() that prints \"Engine started\".\n",
    "2. Use super() to call the base class constructor inside the child class."
   ]
  },
  {
   "cell_type": "code",
   "execution_count": 14,
   "metadata": {},
   "outputs": [
    {
     "name": "stdout",
     "output_type": "stream",
     "text": [
      "Brand: Toyota, Year: 2022, Model: Camry\n",
      "Engine started\n"
     ]
    }
   ],
   "source": [
    "class Vehicle:\n",
    "    def __init__(self, brand, year):\n",
    "        self.brand = brand\n",
    "        self.year = year\n",
    "\n",
    "    def start_engine(self):\n",
    "        print(\"Engine started\")\n",
    "\n",
    "class Car(Vehicle):\n",
    "    def __init__(self, brand, year, model):\n",
    "        super().__init__(brand, year)\n",
    "        self.model = model\n",
    "\n",
    "car1 = Car(\"Toyota\", 2022, \"Camry\")\n",
    "print(f\"Brand: {car1.brand}, Year: {car1.year}, Model: {car1.model}\")\n",
    "car1.start_engine()"
   ]
  },
  {
   "cell_type": "markdown",
   "metadata": {},
   "source": [
    "Exercise 4.6: Create a child class Car that inherits from Vehicle.\n",
    "1. Add an attribute fuel_type.\n",
    "2. Override the start_engine() method to print \"Car engine started with {fuel_type}\".\n",
    "3. Ensure the constructor calls super() to initialize brand and year."
   ]
  },
  {
   "cell_type": "code",
   "execution_count": 15,
   "metadata": {},
   "outputs": [
    {
     "name": "stdout",
     "output_type": "stream",
     "text": [
      "Brand: Toyota, Year: 2022, Model: Camry, Fuel Type: Octane\n",
      "Toyota Camry engine started with Octane\n"
     ]
    }
   ],
   "source": [
    "class Vehicle:\n",
    "  def __init__(self,brand,year):\n",
    "    self.brand=brand\n",
    "    self.year=year\n",
    "\n",
    "  def start_engine(self):\n",
    "    print(\"Engine started\")\n",
    "\n",
    "class Car(Vehicle):\n",
    "  def __init__(self,brand,year,model,fuel_type):\n",
    "    super().__init__(brand,year)\n",
    "    self.model=model\n",
    "    self.fuel_type=fuel_type\n",
    "\n",
    "  def start_engine(self):\n",
    "      print(f\"{self.brand} {self.model} engine started with {self.fuel_type}\")\n",
    "\n",
    "car1 = Car(\"Toyota\", 2022, \"Camry\",\"Octane\")\n",
    "print(f\"Brand: {car1.brand}, Year: {car1.year}, Model: {car1.model}, Fuel Type: {car1.fuel_type}\")\n",
    "car1.start_engine()"
   ]
  },
  {
   "cell_type": "markdown",
   "metadata": {},
   "source": [
    "Exercise 4.7: Instantiate an object of Car with brand \"Toyota\", year 2022, and fuel type \"Petrol\". Call its start_engine() method."
   ]
  },
  {
   "cell_type": "code",
   "execution_count": 16,
   "metadata": {},
   "outputs": [
    {
     "name": "stdout",
     "output_type": "stream",
     "text": [
      "Brand: Toyota, Year: 2022, Fuel Type: Petrol\n",
      "Toyota engine started with Petrol\n"
     ]
    }
   ],
   "source": [
    "class Vehicle:\n",
    "    def __init__(self, brand, year):\n",
    "        self.brand = brand\n",
    "        self.year = year\n",
    "\n",
    "    def start_engine(self):\n",
    "        print(\"Engine started\")\n",
    "\n",
    "class Car(Vehicle):\n",
    "    def __init__(self, brand, year, fuel_type):\n",
    "        super().__init__(brand, year)\n",
    "        self.fuel_type = fuel_type\n",
    "\n",
    "    def start_engine(self):\n",
    "        print(f\"{self.brand} engine started with {self.fuel_type}\")\n",
    "\n",
    "car1 = Car(\"Toyota\", 2022, \"Petrol\")\n",
    "\n",
    "print(f\"Brand: {car1.brand}, Year: {car1.year}, Fuel Type: {car1.fuel_type}\")\n",
    "car1.start_engine()"
   ]
  },
  {
   "cell_type": "markdown",
   "metadata": {},
   "source": [
    "Exercise 4.8: Modify the Vehicle class to include a method info() that prints \"Brand: {brand}, Year: {year}\". Use super() in the Car class to ensure it works correctly."
   ]
  },
  {
   "cell_type": "code",
   "execution_count": 17,
   "metadata": {},
   "outputs": [
    {
     "name": "stdout",
     "output_type": "stream",
     "text": [
      "Brand: Toyota, Year: 2022\n",
      "Fuel Type: Petrol\n",
      "Toyota engine started with Petrol\n"
     ]
    }
   ],
   "source": [
    "class Vehicle:\n",
    "    def __init__(self, brand, year):\n",
    "        self.brand = brand\n",
    "        self.year = year\n",
    "\n",
    "    def start_engine(self):\n",
    "        print(\"Engine started\")\n",
    "\n",
    "    def info(self):\n",
    "        print(f\"Brand: {self.brand}, Year: {self.year}\")\n",
    "\n",
    "class Car(Vehicle):\n",
    "    def __init__(self, brand, year, fuel_type):\n",
    "        super().__init__(brand, year)\n",
    "        self.fuel_type = fuel_type\n",
    "\n",
    "    def start_engine(self):\n",
    "        print(f\"{self.brand} engine started with {self.fuel_type}\")\n",
    "\n",
    "    def info(self):\n",
    "        super().info()\n",
    "        print(f\"Fuel Type: {self.fuel_type}\")\n",
    "\n",
    "car1 = Car(\"Toyota\", 2022, \"Petrol\")\n",
    "\n",
    "car1.info()\n",
    "car1.start_engine()"
   ]
  },
  {
   "cell_type": "markdown",
   "metadata": {},
   "source": [
    "Exercise 4.9: Create two parent classes:\n",
    "1. Teacher → Method teach() prints \"Teaching students\".\n",
    "2. Writer → Method write() prints \"Writing articles\".\n",
    "\n",
    "Now, create a child class Professor that inherits from both Teacher and Writer.\n",
    "\n",
    "i. Add a method research() that prints \"Conducting research\".\n",
    "\n",
    "ii. Use super() to ensure all methods work properly."
   ]
  },
  {
   "cell_type": "code",
   "execution_count": 18,
   "metadata": {},
   "outputs": [
    {
     "name": "stdout",
     "output_type": "stream",
     "text": [
      "Teaching students\n",
      "Writing articles\n",
      "Conducting research\n",
      "\n",
      "Calling all duties at once:\n",
      "Teaching students\n",
      "Writing articles\n",
      "Conducting research\n"
     ]
    }
   ],
   "source": [
    "class Teacher:\n",
    "    def teach(self):\n",
    "        print(\"Teaching students\")\n",
    "\n",
    "class Writer:\n",
    "    def write(self):\n",
    "        print(\"Writing articles\")\n",
    "\n",
    "class Professor(Teacher, Writer):\n",
    "    def __init__(self):\n",
    "        super().__init__()\n",
    "\n",
    "    def research(self):\n",
    "        print(\"Conducting research\")\n",
    "\n",
    "    def all_duties(self):\n",
    "        super().teach()\n",
    "        super().write()\n",
    "        self.research()\n",
    "\n",
    "prof = Professor()\n",
    "\n",
    "prof.teach()\n",
    "prof.write()\n",
    "prof.research()\n",
    "print(\"\\nCalling all duties at once:\")\n",
    "prof.all_duties()"
   ]
  },
  {
   "cell_type": "markdown",
   "metadata": {},
   "source": [
    "Exercise 4.10: Instantiate a Professor object and call teach(), write(), and research()."
   ]
  },
  {
   "cell_type": "code",
   "execution_count": null,
   "metadata": {},
   "outputs": [],
   "source": [
    "class Professor:\n",
    "    def teach(self):\n",
    "        print(\"The professor is teaching a class.\")\n",
    "\n",
    "    def write(self):\n",
    "        print(\"The professor is writing a research paper.\")\n",
    "\n",
    "    def research(self):\n",
    "        print(\"The professor is conducting research.\")\n",
    "\n",
    "prof = Professor()\n",
    "\n",
    "prof.teach()\n",
    "prof.write()\n",
    "prof.research()"
   ]
  },
  {
   "cell_type": "markdown",
   "metadata": {},
   "source": [
    "Exercise 4.11: Create a class hierarchy:\n",
    "1. Base class: Device → Constructor prints \"Device Initialized\" and method power_on() prints \"Device is turning on\".\n",
    "\n",
    "2. Intermediate class: Computer (inherits from Device) → Constructor prints \"Computer Initialized\", method compute() prints \"Computing tasks\".\n",
    "\n",
    "3. Derived class: Laptop (inherits from Computer) → Constructor prints \"Laptop Initialized\", method portable() prints \"Laptops are portable\".\n",
    "\n",
    "Use super() to ensure each constructor calls its parent class."
   ]
  },
  {
   "cell_type": "code",
   "execution_count": null,
   "metadata": {},
   "outputs": [],
   "source": [
    "class Device:\n",
    "    def __init__(self):\n",
    "        print(\"Device Initialized\")\n",
    "\n",
    "    def power_on(self):\n",
    "        print(\"Device is turning on\")\n",
    "\n",
    "class Computer(Device):\n",
    "    def __init__(self):\n",
    "        super().__init__() \n",
    "        print(\"Computer Initialized\")\n",
    "\n",
    "    def compute(self):\n",
    "        print(\"Computing tasks\")\n",
    "\n",
    "class Laptop(Computer):\n",
    "    def __init__(self):\n",
    "        super().__init__()\n",
    "        print(\"Laptop Initialized\")\n",
    "\n",
    "    def portable(self):\n",
    "        print(\"Laptops are portable\")\n",
    "\n",
    "my_laptop = Laptop()\n",
    "print()\n",
    "\n",
    "my_laptop.power_on()\n",
    "my_laptop.compute()\n",
    "my_laptop.portable()"
   ]
  },
  {
   "cell_type": "markdown",
   "metadata": {},
   "source": [
    "Exercise 4.12: Instantiate a Laptop object and call power_on(), compute(), and portable(). Observe how super() ensures the correct execution order."
   ]
  },
  {
   "cell_type": "code",
   "execution_count": null,
   "metadata": {},
   "outputs": [],
   "source": [
    "class Device:\n",
    "    def __init__(self):\n",
    "        print(\"Device Initialized\")\n",
    "\n",
    "    def power_on(self):\n",
    "        print(\"Device is turning on\")\n",
    "\n",
    "class Computer(Device):\n",
    "    def __init__(self):\n",
    "        super().__init__()\n",
    "        print(\"Computer Initialized\")\n",
    "\n",
    "    def compute(self):\n",
    "        print(\"Computing tasks\")\n",
    "\n",
    "class Laptop(Computer):\n",
    "    def __init__(self):\n",
    "        super().__init__()\n",
    "        print(\"Laptop Initialized\")\n",
    "\n",
    "    def portable(self):\n",
    "        print(\"Laptops are portable\")\n",
    "\n",
    "print(\"Creating Laptop object:\")\n",
    "my_laptop = Laptop()\n",
    "\n",
    "print(\"\\nCalling methods:\")\n",
    "\n",
    "my_laptop.power_on()\n",
    "my_laptop.compute()\n",
    "my_laptop.portable()"
   ]
  },
  {
   "cell_type": "markdown",
   "metadata": {},
   "source": [
    "Exercise 4.13: Create a Multiple + Multilevel Inheritance scenario:\n",
    "1. Class Person → Constructor prints \"Person Initialized\", method breathe() prints \"Humans breathe\".\n",
    "2. Class Athlete (inherits from Person) → Constructor prints \"Athlete Initialized\", method train() prints \"Athlete is training\".\n",
    "3. Class Student (inherits from Person) → Constructor prints \"Student Initialized\", method study() prints \"Student is studying\".\n",
    "4. Class SportsStudent (inherits from both Athlete and Student)\n",
    "\n",
    "i. Constructor prints \"SportsStudent Initialized\".\n",
    "\n",
    "ii. Method compete() prints \"Competing in sports\".\n",
    "\n",
    "iii. Use super() to call constructors in the correct order."
   ]
  },
  {
   "cell_type": "code",
   "execution_count": null,
   "metadata": {},
   "outputs": [],
   "source": [
    "class Person:\n",
    "    def __init__(self):\n",
    "        print(\"Person Initialized\")\n",
    "\n",
    "    def breathe(self):\n",
    "        print(\"Humans breathe\")\n",
    "\n",
    "class Athlete(Person):\n",
    "    def __init__(self):\n",
    "        super().__init__()\n",
    "        print(\"Athlete Initialized\")\n",
    "\n",
    "    def train(self):\n",
    "        print(\"Athlete is training\")\n",
    "\n",
    "class Student(Person):\n",
    "    def __init__(self):\n",
    "        super().__init__()\n",
    "        print(\"Student Initialized\")\n",
    "\n",
    "    def study(self):\n",
    "        print(\"Student is studying\")\n",
    "\n",
    "class SportsStudent(Athlete, Student):\n",
    "    def __init__(self):\n",
    "        super().__init__()\n",
    "        print(\"SportsStudent Initialized\")\n",
    "\n",
    "    def compete(self):\n",
    "        print(\"Competing in sports\")\n",
    "\n",
    "print(\"Creating SportsStudent object:\")\n",
    "ss = SportsStudent()\n",
    "\n",
    "print(\"\\nCalling methods:\")\n",
    "\n",
    "ss.breathe()\n",
    "ss.train()\n",
    "ss.study()\n",
    "ss.compete()"
   ]
  },
  {
   "cell_type": "markdown",
   "metadata": {},
   "source": [
    "Exercise 4.14: Instantiate a SportsStudent object and call breathe(), train(), study(), and compete(). Observe how Method Resolution Order (MRO) works."
   ]
  },
  {
   "cell_type": "code",
   "execution_count": null,
   "metadata": {},
   "outputs": [],
   "source": [
    "class Person:\n",
    "    def __init__(self):\n",
    "        print(\"Person Initialized\")\n",
    "\n",
    "    def breathe(self):\n",
    "        print(\"Humans breathe\")\n",
    "\n",
    "class Athlete(Person):\n",
    "    def __init__(self):\n",
    "        super().__init__()\n",
    "        print(\"Athlete Initialized\")\n",
    "\n",
    "    def train(self):\n",
    "        print(\"Athlete is training\")\n",
    "\n",
    "class Student(Person):\n",
    "    def __init__(self):\n",
    "        super().__init__()\n",
    "        print(\"Student Initialized\")\n",
    "\n",
    "    def study(self):\n",
    "        print(\"Student is studying\")\n",
    "\n",
    "class SportsStudent(Athlete, Student):\n",
    "    def __init__(self):\n",
    "        super().__init__()\n",
    "        print(\"SportsStudent Initialized\")\n",
    "\n",
    "    def compete(self):\n",
    "        print(\"Competing in sports\")\n",
    "\n",
    "print(\"Creating SportsStudent object:\\n\")\n",
    "ss = SportsStudent()\n",
    "\n",
    "print(\"\\nCalling methods:\\n\")\n",
    "\n",
    "ss.breathe()\n",
    "ss.train()\n",
    "ss.study()\n",
    "ss.compete()\n",
    "\n",
    "print(\"\\nMRO of SportsStudent:\")\n",
    "print(SportsStudent.__mro__)"
   ]
  },
  {
   "cell_type": "markdown",
   "metadata": {},
   "source": [
    "Question's Solve"
   ]
  },
  {
   "cell_type": "code",
   "execution_count": 19,
   "metadata": {},
   "outputs": [
    {
     "name": "stdout",
     "output_type": "stream",
     "text": [
      "True\n",
      "False\n"
     ]
    }
   ],
   "source": [
    "class Course:\n",
    "    def __init__(self,course_id,title):\n",
    "        self.course_id=course_id\n",
    "        self.title=title\n",
    "        self.faculty=None\n",
    "    \n",
    "    def assign_faculty(self,faculty):\n",
    "        self.faculty=faculty\n",
    "        faculty.course.append(self)\n",
    "        \n",
    "    def __repr__(self):\n",
    "        return f\"Course (ID: {self.course_id}, Title: {self.title}, Faculty: {self.Faculty.name if self.faculty else 'None'})\"\n",
    "\n",
    "class Faculty:\n",
    "    def __init__(self,faculty_id,name):\n",
    "        self.faculty_id=faculty_id\n",
    "        self.name=name\n",
    "        self.course=[]\n",
    "        \n",
    "    def assign_course(self,course):\n",
    "        if course.faculty is None:\n",
    "            course.assign_faculty(self)\n",
    "        else:\n",
    "            print(f\"Course '{course.title}' already has a faculty named: {course.faculty.name}\")\n",
    "        \n",
    "    def __repr__(self):\n",
    "        return f\"Faculty (ID: {self.faculty_id}, Name: {self.name})\"\n",
    "    \n",
    "class Student:\n",
    "    def __init__(self,student_id,name):\n",
    "        self.student_id=student_id\n",
    "        self.name=name\n",
    "        self.enrollment_courses=[]\n",
    "        \n",
    "    def enroll(self,course):\n",
    "        if course not in self.enrollment_courses:\n",
    "            self.enrollment_courses.append(course)\n",
    "        else:\n",
    "            print(f\"Student '{self.name}' is already enrolled in '{course.title}'\")\n",
    "            \n",
    "    def __repr__(self):\n",
    "        return f\"Student(ID: {self.student_id}, Name: {self.name})\"\n",
    "    \n",
    "class CourseManagementSystem:\n",
    "    def __init__(self):\n",
    "        self.courses = []\n",
    "\n",
    "    def add_course(self, course):\n",
    "        self.courses.append(course)\n",
    "\n",
    "    def course_exists(self, title):\n",
    "        return any(course.title == title for course in self.courses)\n",
    "\n",
    "    def __repr__(self):\n",
    "        return f\"CourseManagementSystem(Courses: {[course.title for course in self.courses]})\"\n",
    "\n",
    "cms = CourseManagementSystem()\n",
    "\n",
    "course1 = Course(101, \"Mathematics\")\n",
    "course2 = Course(102, \"Physics\")\n",
    "cms.add_course(course1)\n",
    "cms.add_course(course2)\n",
    "\n",
    "faculty1 = Faculty(1, \"Dr. Smith\")\n",
    "faculty2 = Faculty(2, \"Dr. Johnson\")\n",
    "\n",
    "faculty1.assign_course(course1)\n",
    "faculty2.assign_course(course2)\n",
    "\n",
    "student1 = Student(201, \"Alice\")\n",
    "student2 = Student(202, \"Bob\")\n",
    "\n",
    "student1.enroll(course1)\n",
    "student1.enroll(course2)\n",
    "student2.enroll(course1)\n",
    "\n",
    "print(cms.course_exists(\"Mathematics\"))\n",
    "print(cms.course_exists(\"Chemistry\"))"
   ]
  }
 ],
 "metadata": {
  "kernelspec": {
   "display_name": "Python 3",
   "language": "python",
   "name": "python3"
  },
  "language_info": {
   "codemirror_mode": {
    "name": "ipython",
    "version": 3
   },
   "file_extension": ".py",
   "mimetype": "text/x-python",
   "name": "python",
   "nbconvert_exporter": "python",
   "pygments_lexer": "ipython3",
   "version": "3.13.0"
  }
 },
 "nbformat": 4,
 "nbformat_minor": 2
}
